{
  "nbformat": 4,
  "nbformat_minor": 0,
  "metadata": {
    "colab": {
      "provenance": []
    },
    "kernelspec": {
      "name": "python3",
      "display_name": "Python 3"
    },
    "language_info": {
      "name": "python"
    }
  },
  "cells": [
    {
      "cell_type": "code",
      "source": [
        "def split_sentence(sentence):\n",
        "  words = sentence.split()\n",
        "\n",
        "  for word in words:\n",
        "    print(word)"
      ],
      "metadata": {
        "id": "2LVwjJwFDhvW"
      },
      "execution_count": 1,
      "outputs": []
    },
    {
      "cell_type": "code",
      "source": [
        "line_of_text = input(\"Enter a sentence: \")\n",
        "split_sentence(line_of_text)"
      ],
      "metadata": {
        "colab": {
          "base_uri": "https://localhost:8080/"
        },
        "id": "HvGlGBVOFk0J",
        "outputId": "76e005ea-2204-4086-c0e0-7f856222c914"
      },
      "execution_count": 3,
      "outputs": [
        {
          "output_type": "stream",
          "name": "stdout",
          "text": [
            "Enter a sentence: He is a smart boy\n",
            "He\n",
            "is\n",
            "a\n",
            "smart\n",
            "boy\n"
          ]
        }
      ]
    }
  ]
}